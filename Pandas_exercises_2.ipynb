{
 "cells": [
  {
   "cell_type": "markdown",
   "id": "324b00f2",
   "metadata": {},
   "source": [
    "# Pandas exercises\n",
    "\n",
    "<font size=\"3\"> Exercises taken from [101 Pandas exercises for data analysis](https://www.machinelearningplus.com/python/101-pandas-exercises-python/) </font>"
   ]
  },
  {
   "cell_type": "code",
   "execution_count": 2,
   "id": "12134666",
   "metadata": {},
   "outputs": [],
   "source": [
    "import pandas as pd\n",
    "import numpy as np"
   ]
  },
  {
   "cell_type": "markdown",
   "id": "7f02915d",
   "metadata": {},
   "source": [
    "<font size=\"3\"> 11. How to bin a numeric series to 10 groups of equal size? Bin the series ser into 10 equal deciles and replace the values with the bin name.\n",
    "\n",
    " </font>"
   ]
  },
  {
   "cell_type": "code",
   "execution_count": 37,
   "id": "e9b1b01a",
   "metadata": {},
   "outputs": [
    {
     "name": "stdout",
     "output_type": "stream",
     "text": [
      "0     10th\n",
      "1      8th\n",
      "2      7th\n",
      "3      2nd\n",
      "4      9th\n",
      "5      6th\n",
      "6      6th\n",
      "7      7th\n",
      "8      8th\n",
      "9      5th\n",
      "10     1st\n",
      "11     5th\n",
      "12     3rd\n",
      "13     9th\n",
      "14     1st\n",
      "15     4th\n",
      "16     2nd\n",
      "17    10th\n",
      "18     3rd\n",
      "19     4th\n",
      "dtype: category\n",
      "Categories (10, object): ['1st' < '2nd' < '3rd' < '4th' ... '7th' < '8th' < '9th' < '10th']\n"
     ]
    }
   ],
   "source": [
    "# Input\n",
    "\n",
    "ser = pd.Series(np.random.random(20))\n",
    "\n",
    "# can use pd.qcut() method to split data equally in to equally sized bins based on quantiles\n",
    "bins = 10\n",
    "labels = ['1st', '2nd', '3rd', '4th','5th', '6th','7th', '8th', '9th', '10th']\n",
    "x = pd.qcut(ser, q=bins, labels = labels)\n",
    "print(x)\n",
    "\n"
   ]
  }
 ],
 "metadata": {
  "kernelspec": {
   "display_name": "Python 3 (ipykernel)",
   "language": "python",
   "name": "python3"
  },
  "language_info": {
   "codemirror_mode": {
    "name": "ipython",
    "version": 3
   },
   "file_extension": ".py",
   "mimetype": "text/x-python",
   "name": "python",
   "nbconvert_exporter": "python",
   "pygments_lexer": "ipython3",
   "version": "3.9.13"
  }
 },
 "nbformat": 4,
 "nbformat_minor": 5
}
