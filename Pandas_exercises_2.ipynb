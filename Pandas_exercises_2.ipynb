{
 "cells": [
  {
   "cell_type": "markdown",
   "id": "324b00f2",
   "metadata": {},
   "source": [
    "# Pandas exercises\n",
    "\n",
    "<font size=\"3\"> Exercises taken from [101 Pandas exercises for data analysis](https://www.machinelearningplus.com/python/101-pandas-exercises-python/) </font>"
   ]
  },
  {
   "cell_type": "code",
   "execution_count": 1,
   "id": "12134666",
   "metadata": {},
   "outputs": [],
   "source": [
    "import pandas as pd\n",
    "import numpy as np\n"
   ]
  },
  {
   "cell_type": "markdown",
   "id": "7f02915d",
   "metadata": {},
   "source": [
    "<font size=\"3\"> 11. How to bin a numeric series to 10 groups of equal size? Bin the series ser into 10 equal deciles and replace the values with the bin name.\n",
    "\n",
    " </font>"
   ]
  },
  {
   "cell_type": "code",
   "execution_count": 37,
   "id": "e9b1b01a",
   "metadata": {},
   "outputs": [
    {
     "name": "stdout",
     "output_type": "stream",
     "text": [
      "0     10th\n",
      "1      8th\n",
      "2      7th\n",
      "3      2nd\n",
      "4      9th\n",
      "5      6th\n",
      "6      6th\n",
      "7      7th\n",
      "8      8th\n",
      "9      5th\n",
      "10     1st\n",
      "11     5th\n",
      "12     3rd\n",
      "13     9th\n",
      "14     1st\n",
      "15     4th\n",
      "16     2nd\n",
      "17    10th\n",
      "18     3rd\n",
      "19     4th\n",
      "dtype: category\n",
      "Categories (10, object): ['1st' < '2nd' < '3rd' < '4th' ... '7th' < '8th' < '9th' < '10th']\n"
     ]
    }
   ],
   "source": [
    "# Input\n",
    "\n",
    "ser = pd.Series(np.random.random(20))\n",
    "\n",
    "# can use pd.qcut() method to split data equally in to equally sized bins based on quantiles\n",
    "bins = 10\n",
    "labels = ['1st', '2nd', '3rd', '4th','5th', '6th','7th', '8th', '9th', '10th']\n",
    "x = pd.qcut(ser, q=bins, labels = labels)\n",
    "print(x)\n",
    "\n"
   ]
  },
  {
   "cell_type": "markdown",
   "id": "db46bb0b",
   "metadata": {},
   "source": [
    "<font size=\"3\"> 12. How to convert a numpy array to a dataframe of given shape? Reshape the series ser into a dataframe with 7 rows and 5 columns.\n",
    " </font>"
   ]
  },
  {
   "cell_type": "code",
   "execution_count": 61,
   "id": "4b37a412",
   "metadata": {},
   "outputs": [],
   "source": [
    "# input\n",
    "\n",
    "ser = pd.Series(np.random.randint(1, 10, 35))\n",
    "\n",
    "# method1\n",
    "x = np.array_split(ser, 5) # splits the ser series in to a group of 5 lists and then slice these in to variables\n",
    "col1 =  x[0]\n",
    "col2 = x[1]\n",
    "col3 = x[2]\n",
    "col4 = x[3]\n",
    "col5 = x[4]\n",
    "zipped = list(zip(col1, col2, col3, col4, col5)) # zip the lists together and put in to dataframe\n",
    "df = pd.DataFrame(zipped)\n",
    "\n",
    "# method2 - much simpler - use values method to get the values of ser and then use .reshape method\n",
    "df = pd.DataFrame(ser.values.reshape(7, 5))\n"
   ]
  },
  {
   "cell_type": "markdown",
   "id": "36e3ead9",
   "metadata": {},
   "source": [
    "<font size=\"3\"> 13. How to find the positions of numbers that are multiples of 3 from a series? Find the positions of numbers that are multiples of 3 from ser.\n",
    " </font>"
   ]
  },
  {
   "cell_type": "code",
   "execution_count": 3,
   "id": "4b2476e9",
   "metadata": {},
   "outputs": [
    {
     "data": {
      "text/plain": [
       "array([0, 1, 2])"
      ]
     },
     "execution_count": 3,
     "metadata": {},
     "output_type": "execute_result"
    }
   ],
   "source": [
    "np.random.seed(1)\n",
    "\n",
    "\n",
    "# Input\n",
    "ser = pd.Series(np.random.randint(1, 10, 7))\n",
    "\n",
    "# method 1\n",
    "\n",
    "# use a list comprehension to loop over elements and if condition is met add the index to a list\n",
    "indexes = [index for index in range(len(ser)) if ser[index] % 3 == 0]\n",
    "\n",
    "# method 2 - more simple, pass the values of ser to np.argwhere, this returns an array of the indices where condition is met\n",
    "np.argwhere(ser.values % 3 == 0)\n",
    "\n",
    "# method 3 use np.where and a condition, can then index element 0 of the returned array\n",
    "np.where(ser.values %3 == 0)[0]\n",
    "\n"
   ]
  },
  {
   "cell_type": "markdown",
   "id": "0cdfb263",
   "metadata": {},
   "source": [
    "<font size=\"3\"> 14. How to extract items at given positions from a series. From ser, extract the items at positions in list pos.\n",
    " </font>"
   ]
  },
  {
   "cell_type": "code",
   "execution_count": 137,
   "id": "88df4d62",
   "metadata": {},
   "outputs": [
    {
     "data": {
      "text/plain": [
       "0     a\n",
       "4     e\n",
       "8     i\n",
       "14    o\n",
       "20    u\n",
       "dtype: object"
      ]
     },
     "execution_count": 137,
     "metadata": {},
     "output_type": "execute_result"
    }
   ],
   "source": [
    "ser = pd.Series(list('abcdefghijklmnopqrstuvwxyz'))\n",
    "pos = [0, 4, 8, 14, 20]\n",
    "\n",
    "# method 1 - loop through list of indices and append to a list\n",
    "extracted = []\n",
    "for i in pos:\n",
    "    extracted.append(ser[i])\n",
    "    \n",
    "# method 2 - use pandas.take method that returns elements given an index/ list of indices\n",
    "ser.take(pos)"
   ]
  },
  {
   "cell_type": "markdown",
   "id": "424bc60c",
   "metadata": {},
   "source": [
    "<font size=\"3\"> 15. How to stack two series vertically and horizontally ? Stack ser1 and ser2 vertically and horizontally (to form a dataframe).\n",
    "    </font>"
   ]
  },
  {
   "cell_type": "code",
   "execution_count": 12,
   "id": "5a9d88d1",
   "metadata": {},
   "outputs": [],
   "source": [
    "# input\n",
    "\n",
    "ser1 = pd.Series(range(5))\n",
    "ser2 = pd.Series(list('abcde'))\n",
    "\n",
    "df_vertical = pd.concat([ser1, ser2], axis = 0) # use pd.concat and axis = 0 to concat under rows\n",
    "df_horiz = pd.concat([ser1, ser2], axis = 1) # use axis = 1 to stack horizontal columns"
   ]
  },
  {
   "cell_type": "markdown",
   "id": "0ba1d8a0",
   "metadata": {},
   "source": [
    "<font size=\"3\"> 16. How to get the positions of items of series A in another series B? Get the positions of items of ser2 in ser1 as a list. </font> "
   ]
  },
  {
   "cell_type": "code",
   "execution_count": 13,
   "id": "feb10d1a",
   "metadata": {},
   "outputs": [],
   "source": [
    "# input\n",
    "\n",
    "ser1 = pd.Series([10, 9, 6, 5, 3, 1, 12, 8, 13])\n",
    "ser2 = pd.Series([1, 3, 10, 13])\n",
    "\n",
    "[np.where(i == ser1)[0].tolist()[0] for i in ser2] # np.where i equals ser2 and index[0] because tuple,  list is returned"
   ]
  }
 ],
 "metadata": {
  "kernelspec": {
   "display_name": "Python 3 (ipykernel)",
   "language": "python",
   "name": "python3"
  },
  "language_info": {
   "codemirror_mode": {
    "name": "ipython",
    "version": 3
   },
   "file_extension": ".py",
   "mimetype": "text/x-python",
   "name": "python",
   "nbconvert_exporter": "python",
   "pygments_lexer": "ipython3",
   "version": "3.9.13"
  }
 },
 "nbformat": 4,
 "nbformat_minor": 5
}
