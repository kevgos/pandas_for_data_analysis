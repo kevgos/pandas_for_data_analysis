{
 "cells": [
  {
   "cell_type": "markdown",
   "id": "19af09ff",
   "metadata": {},
   "source": [
    "# Pandas exercises\n",
    "\n",
    "<font size=\"3\"> Exercises taken from [101 Pandas exercises for data analysis](https://www.machinelearningplus.com/python/101-pandas-exercises-python/) </font>"
   ]
  },
  {
   "cell_type": "code",
   "execution_count": 10,
   "id": "00a4e1fb",
   "metadata": {},
   "outputs": [],
   "source": [
    "import pandas as pd\n",
    "import numpy as np\n",
    "import datetime"
   ]
  },
  {
   "cell_type": "markdown",
   "id": "a8b455de",
   "metadata": {},
   "source": [
    "<font size=\"3\"> 21. How to convert a series of date-strings to a timeseries?  </font>"
   ]
  },
  {
   "cell_type": "code",
   "execution_count": 6,
   "id": "83d10ba0",
   "metadata": {},
   "outputs": [
    {
     "data": {
      "text/plain": [
       "0   2010-01-01 00:00:00\n",
       "1   2011-02-02 00:00:00\n",
       "2   2012-03-03 00:00:00\n",
       "3   2013-04-04 00:00:00\n",
       "4   2014-05-05 00:00:00\n",
       "5   2015-06-06 12:20:00\n",
       "dtype: datetime64[ns]"
      ]
     },
     "execution_count": 6,
     "metadata": {},
     "output_type": "execute_result"
    }
   ],
   "source": [
    "# input\n",
    "\n",
    "ser = pd.Series(['01 Jan 2010', '02-02-2011', '20120303', '2013/04/04', '2014-05-05', '2015-06-06T12:20'])\n",
    "\n",
    "# can use pandas.to_datetime() function\n",
    "pd.to_datetime(ser)"
   ]
  },
  {
   "cell_type": "markdown",
   "id": "fbd34697",
   "metadata": {},
   "source": [
    "<font size=\"3\"> 22. How to get the day of month, week number, day of year and day of week from a series of date strings? </font>"
   ]
  },
  {
   "cell_type": "code",
   "execution_count": 7,
   "id": "8168fa95",
   "metadata": {},
   "outputs": [],
   "source": [
    "ser = pd.Series(['01 Jan 2010', '02-02-2011', '20120303', '2013/04/04', '2014-05-05', '2015-06-06T12:20'])\n",
    "\n",
    "ser_date = pd.to_datetime(ser)\n",
    "\n",
    "# can use to_datetime and then .dt.time\n",
    "day_month = ser_date.dt.day\n",
    "week_number = ser_date.dt.isocalendar().week\n",
    "day_year = ser_date.dt.day_of_year\n",
    "day_week = ser_date.dt.dayofweek"
   ]
  },
  {
   "cell_type": "markdown",
   "id": "4e7714a2",
   "metadata": {},
   "source": [
    "<font size=\"3\"> 23. How to convert year-month string to dates corresponding to the 4th day of the month? \n",
    "    Change ser to dates that start with 4th of the respective months. </font>"
   ]
  },
  {
   "cell_type": "code",
   "execution_count": 13,
   "id": "729b7f56",
   "metadata": {},
   "outputs": [
    {
     "data": {
      "text/plain": [
       "0   2010-01-04\n",
       "1   2011-02-04\n",
       "2   2012-03-04\n",
       "dtype: datetime64[ns]"
      ]
     },
     "execution_count": 13,
     "metadata": {},
     "output_type": "execute_result"
    }
   ],
   "source": [
    "ser = pd.Series(['Jan 2010', 'Feb 2011', 'Mar 2012'])\n",
    "\n",
    "# solution 1, import datetime module and use timedelta to add 3 days\n",
    "pd.to_datetime(ser) + datetime.timedelta(days = 3)"
   ]
  }
 ],
 "metadata": {
  "kernelspec": {
   "display_name": "Python 3 (ipykernel)",
   "language": "python",
   "name": "python3"
  },
  "language_info": {
   "codemirror_mode": {
    "name": "ipython",
    "version": 3
   },
   "file_extension": ".py",
   "mimetype": "text/x-python",
   "name": "python",
   "nbconvert_exporter": "python",
   "pygments_lexer": "ipython3",
   "version": "3.9.13"
  }
 },
 "nbformat": 4,
 "nbformat_minor": 5
}
