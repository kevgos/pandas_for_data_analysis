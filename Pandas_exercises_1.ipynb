{
 "cells": [
  {
   "cell_type": "markdown",
   "id": "00b770bf",
   "metadata": {},
   "source": [
    "# Pandas exercises\n",
    "\n",
    "Exercises taken from [101 Pandas exercises for data analysis](https://www.machinelearningplus.com/python/101-pandas-exercises-python/)"
   ]
  },
  {
   "cell_type": "markdown",
   "id": "65fc7509",
   "metadata": {},
   "source": [
    "1. How to import pandas and check the version?"
   ]
  },
  {
   "cell_type": "code",
   "execution_count": 2,
   "id": "529364a9",
   "metadata": {},
   "outputs": [
    {
     "data": {
      "text/plain": [
       "'1.4.4'"
      ]
     },
     "execution_count": 2,
     "metadata": {},
     "output_type": "execute_result"
    }
   ],
   "source": [
    "# 1\n",
    "\n",
    "import pandas as pd\n",
    "\n",
    "pd.__version__ # check version attribute"
   ]
  },
  {
   "cell_type": "markdown",
   "id": "f489976f",
   "metadata": {},
   "source": [
    "2. How to create a series from a list, numpy array and dict?"
   ]
  },
  {
   "cell_type": "code",
   "execution_count": 6,
   "id": "4eef0bcc",
   "metadata": {},
   "outputs": [
    {
     "name": "stdout",
     "output_type": "stream",
     "text": [
      "[<class 'pandas.core.series.Series'>, <class 'pandas.core.series.Series'>, <class 'pandas.core.series.Series'>]\n"
     ]
    }
   ],
   "source": [
    "import numpy as np\n",
    "\n",
    "# input\n",
    "mylist = list('abcedfghijklmnopqrstuvwxyz')\n",
    "myarr = np.arange(26)\n",
    "mydict = dict(zip(mylist, myarr))\n",
    "\n",
    "# use the Series() function to do this\n",
    "mylist_series = pd.Series(mylist)\n",
    "myarr_series = pd.Series(myarr)\n",
    "mydict_series = pd.Series(mydict)\n",
    "\n",
    "new_series = [mylist_series, myarr_series, mydict_series] # collection of the new series objects\n",
    "print(list(map(type, new_series)))"
   ]
  },
  {
   "cell_type": "markdown",
   "id": "4061ab4f",
   "metadata": {},
   "source": [
    "3. How to convert the index of a series into a column of a dataframe?\n",
    "Convert the series ser into a dataframe with its index as another column on the dataframe."
   ]
  },
  {
   "cell_type": "code",
   "execution_count": 12,
   "id": "e7fecd92",
   "metadata": {},
   "outputs": [],
   "source": [
    "# input\n",
    "\n",
    "mylist = list('abcedfghijklmnopqrstuvwxyz')\n",
    "myarr = np.arange(26)\n",
    "mydict = dict(zip(mylist, myarr))\n",
    "ser = pd.Series(mydict)\n",
    "\n",
    "# use to_frame() function to convert to DataFrame and chain .reset_index() to reset the index\n",
    "df = ser.to_frame().reset_index()"
   ]
  },
  {
   "cell_type": "markdown",
   "id": "4e6dfc8c",
   "metadata": {},
   "source": [
    "4. How to combine many series to form a dataframe?\n",
    "Combine ser1 and ser2 to form a dataframe."
   ]
  },
  {
   "cell_type": "code",
   "execution_count": 36,
   "id": "2bb95306",
   "metadata": {},
   "outputs": [],
   "source": [
    "# input\n",
    "import numpy as np\n",
    "ser1 = pd.Series(list('abcedfghijklmnopqrstuvwxyz'))\n",
    "ser2 = pd.Series(np.arange(26))\n",
    "\n",
    "# use pd.DataFrame \n",
    "\n",
    "df = pd.DataFrame({'col_1' : ser1,'col_2' : ser2})"
   ]
  },
  {
   "cell_type": "markdown",
   "id": "4a75b63f",
   "metadata": {},
   "source": [
    "5. How to assign name to the series’ index?\n",
    "Give a name to the series ser calling it ‘alphabets’."
   ]
  },
  {
   "cell_type": "code",
   "execution_count": 42,
   "id": "9ca4ad7f",
   "metadata": {
    "scrolled": true
   },
   "outputs": [
    {
     "data": {
      "text/plain": [
       "0     a\n",
       "1     b\n",
       "2     c\n",
       "3     e\n",
       "4     d\n",
       "5     f\n",
       "6     g\n",
       "7     h\n",
       "8     i\n",
       "9     j\n",
       "10    k\n",
       "11    l\n",
       "12    m\n",
       "13    n\n",
       "14    o\n",
       "15    p\n",
       "16    q\n",
       "17    r\n",
       "18    s\n",
       "19    t\n",
       "20    u\n",
       "21    v\n",
       "22    w\n",
       "23    x\n",
       "24    y\n",
       "25    z\n",
       "Name: alphabets, dtype: object"
      ]
     },
     "execution_count": 42,
     "metadata": {},
     "output_type": "execute_result"
    }
   ],
   "source": [
    "# input\n",
    "\n",
    "ser = pd.Series(list('abcedfghijklmnopqrstuvwxyz'))\n",
    "\n",
    "# use .series.rename()\n",
    "\n",
    "ser.rename('alphabets')"
   ]
  },
  {
   "cell_type": "markdown",
   "id": "1489bbe1",
   "metadata": {},
   "source": [
    "6. How to get the items of series A not present in series B?\n",
    "From ser1 remove items present in ser2."
   ]
  },
  {
   "cell_type": "code",
   "execution_count": 59,
   "id": "f7ec6edd",
   "metadata": {},
   "outputs": [],
   "source": [
    "# input\n",
    "ser1 = pd.Series([1, 2, 3, 4, 5])\n",
    "ser2 = pd.Series([4, 5, 6, 7, 8])\n",
    "\n",
    "# method 1 is to convert the series to Sets \n",
    "set(ser1) - set(ser2)\n",
    "\n",
    "# method 2 use isin and ~ to subset everything without the items that are shared between the series\n",
    "ser1[ser1.isin(ser2)] # gets the elements that are shared\n",
    "\n",
    "ser1_only = ser1[~ser1.isin(ser2)] # everything except the elements that are shared"
   ]
  },
  {
   "cell_type": "markdown",
   "id": "27794c2f",
   "metadata": {},
   "source": [
    "7. How to get the items not common to both series A and series B?"
   ]
  },
  {
   "cell_type": "code",
   "execution_count": 15,
   "id": "0520d153",
   "metadata": {},
   "outputs": [
    {
     "data": {
      "text/plain": [
       "0    1\n",
       "1    2\n",
       "2    3\n",
       "5    6\n",
       "6    7\n",
       "7    8\n",
       "dtype: int64"
      ]
     },
     "execution_count": 15,
     "metadata": {},
     "output_type": "execute_result"
    }
   ],
   "source": [
    "# input\n",
    "ser1 = pd.Series([1, 2, 3, 4, 5])\n",
    "ser2 = pd.Series([4, 5, 6, 7, 8])\n",
    "\n",
    "# get the union (A,B or both), and the intersect (Only in both) and remove the shared values by filtering out all the values that are in the intersect\n",
    "union_ = pd.Series(np.union1d(ser1, ser2)) \n",
    "intersect_ = pd.Series(np.intersect1d(ser1, ser2))\n",
    "not_common = union_[~union_.isin(intersect)]\n",
    "not_common\n",
    "\n"
   ]
  }
 ],
 "metadata": {
  "kernelspec": {
   "display_name": "Python 3 (ipykernel)",
   "language": "python",
   "name": "python3"
  },
  "language_info": {
   "codemirror_mode": {
    "name": "ipython",
    "version": 3
   },
   "file_extension": ".py",
   "mimetype": "text/x-python",
   "name": "python",
   "nbconvert_exporter": "python",
   "pygments_lexer": "ipython3",
   "version": "3.9.13"
  }
 },
 "nbformat": 4,
 "nbformat_minor": 5
}
