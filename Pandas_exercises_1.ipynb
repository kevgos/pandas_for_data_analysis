{
 "cells": [
  {
   "cell_type": "markdown",
   "id": "00b770bf",
   "metadata": {},
   "source": [
    "# Pandas exercises\n",
    "\n",
    "<font size=\"3\"> Exercises taken from [101 Pandas exercises for data analysis](https://www.machinelearningplus.com/python/101-pandas-exercises-python/) </font>"
   ]
  },
  {
   "cell_type": "code",
   "execution_count": 2,
   "id": "f1ecacc5",
   "metadata": {},
   "outputs": [],
   "source": [
    "import pandas as pd\n",
    "import numpy as np"
   ]
  },
  {
   "cell_type": "markdown",
   "id": "65fc7509",
   "metadata": {},
   "source": [
    "<font size=\"3\"> 1. How to import pandas and check the version? </font>"
   ]
  },
  {
   "cell_type": "code",
   "execution_count": 1,
   "id": "529364a9",
   "metadata": {},
   "outputs": [
    {
     "data": {
      "text/plain": [
       "'1.4.4'"
      ]
     },
     "execution_count": 1,
     "metadata": {},
     "output_type": "execute_result"
    }
   ],
   "source": [
    "# 1\n",
    "\n",
    "import pandas as pd\n",
    "\n",
    "pd.__version__ # check version attribute"
   ]
  },
  {
   "cell_type": "markdown",
   "id": "f489976f",
   "metadata": {},
   "source": [
    "<font size=\"3\"> 2. How to create a series from a list, numpy array and dict? </font>"
   ]
  },
  {
   "cell_type": "code",
   "execution_count": 5,
   "id": "4eef0bcc",
   "metadata": {},
   "outputs": [
    {
     "name": "stdout",
     "output_type": "stream",
     "text": [
      "[<class 'pandas.core.series.Series'>, <class 'pandas.core.series.Series'>, <class 'pandas.core.series.Series'>]\n"
     ]
    }
   ],
   "source": [
    "import numpy as np\n",
    "\n",
    "# input\n",
    "mylist = list('abcedfghijklmnopqrstuvwxyz')\n",
    "myarr = np.arange(26)\n",
    "mydict = dict(zip(mylist, myarr))\n",
    "\n",
    "# use the Series() function to do this\n",
    "mylist_series = pd.Series(mylist)\n",
    "myarr_series = pd.Series(myarr)\n",
    "mydict_series = pd.Series(mydict)\n",
    "\n",
    "new_series = [mylist_series, myarr_series, mydict_series] # collection of the new series objects\n",
    "print(list(map(type, new_series)))"
   ]
  },
  {
   "cell_type": "markdown",
   "id": "4061ab4f",
   "metadata": {},
   "source": [
    "<font size=\"3\"> 3. How to convert the index of a series into a column of a dataframe?\n",
    "Convert the series ser into a dataframe with its index as another column on the dataframe. </font>"
   ]
  },
  {
   "cell_type": "code",
   "execution_count": 12,
   "id": "e7fecd92",
   "metadata": {},
   "outputs": [],
   "source": [
    "# input\n",
    "\n",
    "mylist = list('abcedfghijklmnopqrstuvwxyz')\n",
    "myarr = np.arange(26)\n",
    "mydict = dict(zip(mylist, myarr))\n",
    "ser = pd.Series(mydict)\n",
    "\n",
    "# use to_frame() function to convert to DataFrame and chain .reset_index() to reset the index\n",
    "df = ser.to_frame().reset_index()"
   ]
  },
  {
   "cell_type": "markdown",
   "id": "4e6dfc8c",
   "metadata": {},
   "source": [
    "<font size=\"3\"> 4. How to combine many series to form a dataframe?\n",
    "Combine ser1 and ser2 to form a dataframe. </font>"
   ]
  },
  {
   "cell_type": "code",
   "execution_count": 4,
   "id": "2bb95306",
   "metadata": {},
   "outputs": [],
   "source": [
    "# input\n",
    "import numpy as np\n",
    "ser1 = pd.Series(list('abcedfghijklmnopqrstuvwxyz'))\n",
    "ser2 = pd.Series(np.arange(26))\n",
    "\n",
    "# use pd.DataFrame \n",
    "\n",
    "df = pd.DataFrame({'col_1' : ser1,'col_2' : ser2})"
   ]
  },
  {
   "cell_type": "markdown",
   "id": "4a75b63f",
   "metadata": {},
   "source": [
    "<font size=\"3\"> 5. How to assign name to the series’ index?\n",
    "Give a name to the series ser calling it ‘alphabets’. </font>"
   ]
  },
  {
   "cell_type": "code",
   "execution_count": 42,
   "id": "9ca4ad7f",
   "metadata": {
    "scrolled": true
   },
   "outputs": [
    {
     "data": {
      "text/plain": [
       "0     a\n",
       "1     b\n",
       "2     c\n",
       "3     e\n",
       "4     d\n",
       "5     f\n",
       "6     g\n",
       "7     h\n",
       "8     i\n",
       "9     j\n",
       "10    k\n",
       "11    l\n",
       "12    m\n",
       "13    n\n",
       "14    o\n",
       "15    p\n",
       "16    q\n",
       "17    r\n",
       "18    s\n",
       "19    t\n",
       "20    u\n",
       "21    v\n",
       "22    w\n",
       "23    x\n",
       "24    y\n",
       "25    z\n",
       "Name: alphabets, dtype: object"
      ]
     },
     "execution_count": 42,
     "metadata": {},
     "output_type": "execute_result"
    }
   ],
   "source": [
    "# input\n",
    "\n",
    "ser = pd.Series(list('abcedfghijklmnopqrstuvwxyz'))\n",
    "\n",
    "# use .series.rename()\n",
    "\n",
    "ser.rename('alphabets')"
   ]
  },
  {
   "cell_type": "markdown",
   "id": "1489bbe1",
   "metadata": {},
   "source": [
    "<font size=\"3\"> 6. How to get the items of series A not present in series B?\n",
    "From ser1 remove items present in ser2. </font>"
   ]
  },
  {
   "cell_type": "code",
   "execution_count": 59,
   "id": "f7ec6edd",
   "metadata": {},
   "outputs": [],
   "source": [
    "# input\n",
    "ser1 = pd.Series([1, 2, 3, 4, 5])\n",
    "ser2 = pd.Series([4, 5, 6, 7, 8])\n",
    "\n",
    "# method 1 is to convert the series to Sets \n",
    "set(ser1) - set(ser2)\n",
    "\n",
    "# method 2 use isin and ~ to subset everything without the items that are shared between the series\n",
    "ser1[ser1.isin(ser2)] # gets the elements that are shared\n",
    "\n",
    "ser1_only = ser1[~ser1.isin(ser2)] # everything except the elements that are shared"
   ]
  },
  {
   "cell_type": "markdown",
   "id": "27794c2f",
   "metadata": {},
   "source": [
    "<font size=\"3\"> 7. How to get the items not common to both series A and series B? </font>"
   ]
  },
  {
   "cell_type": "code",
   "execution_count": 6,
   "id": "0520d153",
   "metadata": {},
   "outputs": [
    {
     "data": {
      "text/plain": [
       "0    1\n",
       "1    2\n",
       "2    3\n",
       "5    6\n",
       "6    7\n",
       "7    8\n",
       "dtype: int64"
      ]
     },
     "execution_count": 6,
     "metadata": {},
     "output_type": "execute_result"
    }
   ],
   "source": [
    "# input\n",
    "ser1 = pd.Series([1, 2, 3, 4, 5])\n",
    "ser2 = pd.Series([4, 5, 6, 7, 8])\n",
    "\n",
    "# get the union (A,B or both), and the intersect (Only in both) and remove the shared values by filtering out all the values that are in the intersect\n",
    "union_ = pd.Series(np.union1d(ser1, ser2)) \n",
    "intersect_ = pd.Series(np.intersect1d(ser1, ser2))\n",
    "not_common = union_[~union_.isin(intersect_)]\n",
    "not_common\n",
    "\n"
   ]
  },
  {
   "cell_type": "markdown",
   "id": "4a6a6b3b",
   "metadata": {},
   "source": [
    "<font size=\"3\"> 8. How to get the minimum, 25th percentile, median, 75th, and max of a numeric series? Compute the minimum, 25th percentile, median, 75th, and maximum of ser.\n",
    "\n",
    " </font>"
   ]
  },
  {
   "cell_type": "code",
   "execution_count": 15,
   "id": "45cd68c6",
   "metadata": {
    "scrolled": true
   },
   "outputs": [
    {
     "name": "stdout",
     "output_type": "stream",
     "text": [
      "Minimum percentile is: -1.7085185675703016\n",
      "25th percentile is: 7.44287849457793\n",
      "Median percentile is: 9.157954504608025\n",
      "75th percentile is: 13.317499686053495\n"
     ]
    }
   ],
   "source": [
    "# Input\n",
    "ser = pd.Series(np.random.normal(10, 5, 25))\n",
    "\n",
    "# use numpy percentile() function\n",
    "min_, first_quar, median_, third_quar = np.percentile(ser, [0, 25, 50, 75])\n",
    "\n",
    "print(f'Minimum percentile is: {min_}')\n",
    "print(f'25th percentile is: {first_quar}')\n",
    "print(f'Median percentile is: {median_}')\n",
    "print(f'75th percentile is: {third_quar}')\n"
   ]
  },
  {
   "cell_type": "markdown",
   "id": "336fe276",
   "metadata": {},
   "source": [
    "<font size=\"3\"> 9. How to get frequency counts of unique items of a series?\n",
    " </font>"
   ]
  },
  {
   "cell_type": "code",
   "execution_count": 14,
   "id": "f08af3f1",
   "metadata": {},
   "outputs": [
    {
     "data": {
      "text/plain": [
       "d    8\n",
       "c    5\n",
       "h    4\n",
       "b    4\n",
       "e    3\n",
       "a    3\n",
       "f    2\n",
       "g    1\n",
       "dtype: int64"
      ]
     },
     "execution_count": 14,
     "metadata": {},
     "output_type": "execute_result"
    }
   ],
   "source": [
    "# Input\n",
    "\n",
    "ser = pd.Series(np.take(list('abcdefgh'), np.random.randint(8, size=30)))\n",
    "\n",
    "# can use the series 'value_counts()' method\n",
    "ser.value_counts()"
   ]
  },
  {
   "cell_type": "markdown",
   "id": "79961a43",
   "metadata": {},
   "source": [
    "<font size=\"3\"> 10. How to keep only top 2 most frequent values as it is and replace everything else as ‘Other’? \n",
    "    From ser, keep the top 2 most frequent items as it is and replace everything else as ‘Other’.\n",
    "    \n",
    "</font>"
   ]
  },
  {
   "cell_type": "code",
   "execution_count": 62,
   "id": "1b9a5608",
   "metadata": {},
   "outputs": [
    {
     "name": "stdout",
     "output_type": "stream",
     "text": [
      "value counts in order of frequency are: [3, 1, 4, 2] so only 3 and 1 will be kept.\n",
      "0         3\n",
      "1         1\n",
      "2     Other\n",
      "3         3\n",
      "4     Other\n",
      "5     Other\n",
      "6         3\n",
      "7         3\n",
      "8         3\n",
      "9         1\n",
      "10    Other\n",
      "11        1\n",
      "dtype: object\n"
     ]
    }
   ],
   "source": [
    "# Input\n",
    "\n",
    "np.random.RandomState(100)\n",
    "ser = pd.Series(np.random.randint(1, 5, [12]))\n",
    "\n",
    "x = ser.value_counts().index.to_list() # getting the value counts, only want the top two which are the index, so get this index as a list\n",
    "\n",
    "# loop through ser, if the value is not either the first or second highest in the frequency then replace\n",
    "for i in range(0, len(ser)):\n",
    "    if ser[i] == x[0] or ser[i] == x[1]:\n",
    "        continue\n",
    "    else:\n",
    "        ser[i] = 'Other'\n",
    "print(f'value counts in order of frequency are: {x} so only {x[0]} and {x[1]} will be kept.')\n",
    "print(ser)"
   ]
  }
 ],
 "metadata": {
  "kernelspec": {
   "display_name": "Python 3 (ipykernel)",
   "language": "python",
   "name": "python3"
  },
  "language_info": {
   "codemirror_mode": {
    "name": "ipython",
    "version": 3
   },
   "file_extension": ".py",
   "mimetype": "text/x-python",
   "name": "python",
   "nbconvert_exporter": "python",
   "pygments_lexer": "ipython3",
   "version": "3.9.13"
  }
 },
 "nbformat": 4,
 "nbformat_minor": 5
}
